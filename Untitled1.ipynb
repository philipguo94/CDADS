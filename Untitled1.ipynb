{
 "cells": [
  {
   "cell_type": "code",
   "execution_count": 4,
   "id": "3289cdcd",
   "metadata": {},
   "outputs": [
    {
     "name": "stdout",
     "output_type": "stream",
     "text": [
      "dict_keys(['2009', '2010', '2011', '2014', '2015', '2016', '2017', '2018', '2019', '2012', '2013'])\n",
      "80059\n"
     ]
    }
   ],
   "source": [
    "import os\n",
    "import pandas as pd\n",
    "all_ids = []\n",
    "medication_year_dict = {}\n",
    "root_dir = 'C:\\\\Users\\\\coved\\\\Desktop\\\\CDADS\\\\Summary\\\\overall\\\\'\n",
    "for filename in os.listdir(root_dir):\n",
    "    if 'Summary' in filename:\n",
    "        year = filename[-9:-5]\n",
    "        excel_file = pd.read_excel(root_dir + filename)\n",
    "        filtered_subjects = excel_file[excel_file.iloc[:,1]>180]\n",
    "        all_ids += list(filtered_subjects[\"Reference_id\"])\n",
    "        if year not in medication_year_dict:\n",
    "            medication_year_dict[year] = [float(i) for i in list(filtered_subjects[\"Reference_id\"])]\n",
    "        else:\n",
    "            for i in list(filtered_subjects[\"Reference_id\"]):\n",
    "                medication_year_dict[year].append(float(i))\n",
    "\n",
    "print(medication_year_dict.keys())\n",
    "for year in range(2009, 2020,1):\n",
    "    medication_year_dict[str(year)] = list(dict.fromkeys(medication_year_dict[str(year)]))\n",
    "\n",
    "all_ids = list(dict.fromkeys(all_ids))\n",
    "print(len(all_ids))"
   ]
  },
  {
   "cell_type": "code",
   "execution_count": 44,
   "id": "d828e480",
   "metadata": {
    "scrolled": true
   },
   "outputs": [
    {
     "name": "stderr",
     "output_type": "stream",
     "text": [
      "\r",
      "  0%|                                                                                           | 0/11 [00:00<?, ?it/s]"
     ]
    },
    {
     "name": "stdout",
     "output_type": "stream",
     "text": [
      "6174485_Glaucoma_drugs_2009.xlsx\n",
      "6191534_Glaucoma_drugs_2009.xlsx\n",
      "6195065_Glaucoma_drugs_2009.xlsx\n",
      "6195225_Glaucoma_drugs_2009.xlsx\n",
      "6201745_Glaucoma_drugs_2009.xlsx\n",
      "6219186_Glaucoma_drugs_2009.xlsx\n",
      "6223080_Glaucoma_drugs_2009.xlsx\n"
     ]
    },
    {
     "name": "stderr",
     "output_type": "stream",
     "text": [
      "\r",
      "  9%|███████▌                                                                           | 1/11 [00:43<07:18, 43.84s/it]"
     ]
    },
    {
     "name": "stdout",
     "output_type": "stream",
     "text": [
      "====\n",
      "1\n",
      "6183268_Glaucoma_drugs_2010.xlsx\n",
      "6195796_Glaucoma_drugs_2010.xlsx\n",
      "6196622_Glaucoma_drugs_2010.xlsx\n",
      "6201008_Glaucoma_drugs_2015.xlsx\n",
      "6203144_Glaucoma_drugs_2010.xlsx\n",
      "6221377_Glaucoma_drugs_2010.xlsx\n",
      "6223428_Glaucoma_drugs_2010.xlsx\n",
      "6296004_Glaucoma_drugs_2010.xlsx\n"
     ]
    },
    {
     "name": "stderr",
     "output_type": "stream",
     "text": [
      "\r",
      " 18%|███████████████                                                                    | 2/11 [01:37<07:24, 49.42s/it]"
     ]
    },
    {
     "name": "stdout",
     "output_type": "stream",
     "text": [
      "====\n",
      "2\n",
      "6192303_Glaucoma_drugs_2011.xlsx\n",
      "6196625_Glaucoma_drugs_2011.xlsx\n",
      "6196627_Glaucoma_drugs_2011.xlsx\n",
      "6203194_Glaucoma_drugs_2011.xlsx\n",
      "6217907_Glaucoma_drugs_2011.xlsx\n",
      "6221478_Glaucoma_drugs_2011.xlsx\n",
      "6223430_Glaucoma_drugs_2011.xlsx\n"
     ]
    },
    {
     "name": "stderr",
     "output_type": "stream",
     "text": [
      "\r",
      " 27%|██████████████████████▋                                                            | 3/11 [02:26<06:35, 49.49s/it]"
     ]
    },
    {
     "name": "stdout",
     "output_type": "stream",
     "text": [
      "====\n",
      "3\n",
      "6193768_Glaucoma_drugs_2012.xlsx\n",
      "6199981_Glaucoma_drugs_2012.xlsx\n",
      "6203195_Glaucoma_drugs_2012.xlsx\n",
      "6217911_Glaucoma_drugs_2012.xlsx\n",
      "6221480_Glaucoma_drugs_2012.xlsx\n",
      "6223431_Glaucoma_drugs_2012.xlsx\n",
      "6295994_Glaucoma_drugs_2012.xlsx\n"
     ]
    },
    {
     "name": "stderr",
     "output_type": "stream",
     "text": [
      "\r",
      " 36%|██████████████████████████████▏                                                    | 4/11 [03:18<05:51, 50.25s/it]"
     ]
    },
    {
     "name": "stdout",
     "output_type": "stream",
     "text": [
      "====\n",
      "4\n",
      "6193769_Glaucoma_drugs_2013.xlsx\n",
      "6204818_Glaucoma_drugs_2013.xlsx\n",
      "6217914_Glaucoma_drugs_2013.xlsx\n",
      "6221607_Glaucoma_drugs_2013.xlsx\n",
      "6221900_Glaucoma_drugs_2013.xlsx\n",
      "6228391_Glaucoma_drugs_2013.xlsx\n",
      "6296001_Glaucoma_drugs_2013.xlsx\n"
     ]
    },
    {
     "name": "stderr",
     "output_type": "stream",
     "text": [
      "\r",
      " 45%|█████████████████████████████████████▋                                             | 5/11 [04:11<05:07, 51.27s/it]"
     ]
    },
    {
     "name": "stdout",
     "output_type": "stream",
     "text": [
      "====\n",
      "5\n",
      "6193770_Glaucoma_drugs_2014.xlsx\n",
      "6198182_Glaucoma_drugs_2014.xlsx\n",
      "6200128_Glaucoma_drugs_2014.xlsx\n",
      "6204819_Glaucoma_drugs_2014.xlsX\n",
      "6218969_Glaucoma_drugs_2014.xlsx\n",
      "6221608_Glaucoma_drugs_2014.xlsx\n",
      "6295034_Glaucoma_drugs_2014.xlsx\n"
     ]
    },
    {
     "name": "stderr",
     "output_type": "stream",
     "text": [
      "\r",
      " 55%|█████████████████████████████████████████████▎                                     | 6/11 [05:07<04:24, 52.90s/it]"
     ]
    },
    {
     "name": "stdout",
     "output_type": "stream",
     "text": [
      "====\n",
      "6\n",
      "6193771_Glaucoma_drugs_2015.xlsx\n",
      "6198183_Glaucoma_drugs_2015.xlsx\n",
      "6201008_Glaucoma_drugs_2015.xlsx\n",
      "6209077_Glaucoma_drugs_2015.xlsX\n",
      "6218974_Glaucoma_drugs_2015.xlsx\n",
      "6221609_Glaucoma_drugs_2015.xlsx\n",
      "6295037_Glaucoma_drugs_2015.xlsx\n"
     ]
    },
    {
     "name": "stderr",
     "output_type": "stream",
     "text": [
      "\r",
      " 64%|████████████████████████████████████████████████████▊                              | 7/11 [06:06<03:40, 55.00s/it]"
     ]
    },
    {
     "name": "stdout",
     "output_type": "stream",
     "text": [
      "====\n",
      "7\n",
      "6193976_Glaucoma_drugs_2016.xlsx\n",
      "6198197_Glaucoma_drugs_2016.xlsx\n",
      "6201738_Glaucoma_drugs_2016.xlsx\n",
      "6209079_Glaucoma_drugs_2016.xlsx\n",
      "6218975_Glaucoma_drugs_2016.xlsx\n",
      "6221610_Glaucoma_drugs_2016.xlsx\n",
      "6295041_Glaucoma_drugs_2016.xlsx\n"
     ]
    },
    {
     "name": "stderr",
     "output_type": "stream",
     "text": [
      "\r",
      " 73%|████████████████████████████████████████████████████████████▎                      | 8/11 [07:07<02:51, 57.02s/it]"
     ]
    },
    {
     "name": "stdout",
     "output_type": "stream",
     "text": [
      "====\n",
      "8\n",
      "6193977_Glaucoma_drugs_2017.xlsx\n",
      "6198199_Glaucoma_drugs_2017.xlsx\n",
      "6201738_Glaucoma_drugs_2016.xlsx\n",
      "6201745_Glaucoma_drugs_2009.xlsx\n",
      "6201804_Glaucoma_drugs_2017.xlsx\n",
      "6221605_Glaucoma_drugs_2017.xlsx\n",
      "6221775_Glaucoma_drugs_2017.xlsx\n",
      "6230698_Glaucoma_drugs_2017.xlsx\n",
      "6295980_Glaucoma_drugs_2017.xlsx\n"
     ]
    },
    {
     "name": "stderr",
     "output_type": "stream",
     "text": [
      "\r",
      " 82%|███████████████████████████████████████████████████████████████████▉               | 9/11 [08:26<02:07, 63.61s/it]"
     ]
    },
    {
     "name": "stdout",
     "output_type": "stream",
     "text": [
      "====\n",
      "9\n",
      "6193980_Glaucoma_drugs_2018.xlsx\n",
      "6199764_Glaucoma_drugs_2018.xlsx\n",
      "6201804_Glaucoma_drugs_2017.xlsx\n",
      "6203131_Glaucoma_drugs_2018.xlsx\n",
      "6221769_Glaucoma_drugs_2018.xlsx\n",
      "6221779_Glaucoma_drugs_2018.xlsx\n",
      "6228406_Glaucoma_drugs_2018.xlsx\n",
      "6295982_Glaucoma_drugs_2018.xlsx\n"
     ]
    },
    {
     "name": "stderr",
     "output_type": "stream",
     "text": [
      "\r",
      " 91%|██████████████████████████████████████████████████████████████████████████▌       | 10/11 [09:43<01:07, 67.90s/it]"
     ]
    },
    {
     "name": "stdout",
     "output_type": "stream",
     "text": [
      "====\n",
      "10\n",
      "6174489_Glaucoma_drugs_2019.xlsx\n",
      "6199829_Glaucoma_drugs_2019.xlsx\n",
      "6203137_Glaucoma_drugs_2019.xlsx\n",
      "6221785_Glaucoma_drugs_2019.xlsx\n",
      "6221885_Glaucoma_drugs_2019.xlsx\n",
      "6228407_Glaucoma_drugs_2019.xlsx\n",
      "6295983_Glaucoma_drugs_2019.xlsx\n",
      "====\n"
     ]
    },
    {
     "name": "stderr",
     "output_type": "stream",
     "text": [
      "100%|██████████████████████████████████████████████████████████████████████████████████| 11/11 [10:56<00:00, 59.73s/it]"
     ]
    },
    {
     "name": "stdout",
     "output_type": "stream",
     "text": [
      "11\n"
     ]
    },
    {
     "name": "stderr",
     "output_type": "stream",
     "text": [
      "\n"
     ]
    }
   ],
   "source": [
    "# read drug with >=180\n",
    "\n",
    "import pandas as pd\n",
    "import numpy as np\n",
    "from tqdm import tqdm\n",
    "drug_dir = 'C:\\\\Users\\\\coved\\\\Desktop\\\\CDADS\\\\all_drugs\\\\'\n",
    "\n",
    "drug_year_dict = {}\n",
    "for year in tqdm(range(2009, 2020,1)):\n",
    "    temp_arr = []\n",
    "    for filename in os.listdir(drug_dir):\n",
    "        if str(year) in filename:\n",
    "            print(filename)\n",
    "            df = pd.read_excel(drug_dir + filename)\n",
    "            filtered_df = df[df.iloc[:,0].isin(medication_year_dict[str(year)])]\n",
    "            temp_arr.append(filtered_df)\n",
    "    print('====')\n",
    "    drug_year_dict[year] = pd.concat(temp_arr)\n",
    "    drug_year_dict[year] = drug_year_dict[year][drug_year_dict[year].iloc[:,0].isin(medication_year_dict[str(year)])]\n",
    "    print(len(drug_year_dict))\n"
   ]
  },
  {
   "cell_type": "code",
   "execution_count": 86,
   "id": "bc2d8994",
   "metadata": {},
   "outputs": [],
   "source": [
    "drug_year_quantity_dict = {}\n",
    "\n",
    "drug_prices = {\n",
    "    'TIMOLOL ': 9.4912,\n",
    "    'TIMOLOL-PRESERVATIVE': 32.2297,\n",
    "    'AZARGA': 60.5438,\n",
    "    'BETAXOLOL': 50.4996,\n",
    "    'BIMATOPROST': 56.2268,\n",
    "    'BRIMONIDINE': 49.5512,\n",
    "    'COMBIGAN': 55.5499,\n",
    "    'COSOPT': 21.7655,\n",
    "    'DORZOLAMIDE': 37.9786,\n",
    "    'DUOTRAV': 88.2678,\n",
    "    'GANFORT ': 94.94,\n",
    "    'GANFORT-PRESERVATIVE': 3.1646,\n",
    "    'LATANOPROST ': 20.7558,\n",
    "    'LATANOPROST-PRESERVATIVE': 2.0874,\n",
    "    'PILOCARPINE HCL1%': 28.2780,\n",
    "    'PILOCARPINE HCL2%': 28.2773,\n",
    "    'PILOCARPINE HCL4%': 44.4379,\n",
    "    'SIMBRINZA': 70.7680,\n",
    "    'TAFLUPROST': 2.4240,\n",
    "    'TAPCOM-S': 2.6934,\n",
    "    'TRAVOPROST': 68.9893,\n",
    "    'XALACOM': 33.6242,\n",
    "    'ACETAZOLAMIDE': 1.7741\n",
    "}\n",
    "\n",
    "for year in range(2009, 2020):\n",
    "    drug_num_dict = {}\n",
    "    all_drug_unduplicated_name = list(set(drug_year_dict[year]['Drug Name']))\n",
    "    for drug in drug_prices.keys():\n",
    "        drug_year_dict[year]['Drug Name'] = drug_year_dict[year]['Drug Name'].replace('GANFORT (OR EQUIV) (PRESERVATIVE FR','TIMOLOL-PRESERVATIVE')\n",
    "        drug_year_dict[year]['Drug Name'] = drug_year_dict[year]['Drug Name'].replace('GANFORT (OR EQUIV) (PRESERVATIVE FR','GANFORT-PRESERVATIVE')\n",
    "        drug_year_dict[year]['Drug Name'] = drug_year_dict[year]['Drug Name'].replace('LATANOPROST (PRESERVATIVE FREE)','LATANOPROST-PRESERVATIVE')\n",
    "\n",
    "        df_str = drug_year_dict[year]['Drug Name'] + drug_year_dict[year]['Drug Strength'].fillna('')\n",
    "        drug_num_dict[drug] = np.sum(drug_year_dict[year][df_str.str.contains(drug)]['Quantity (Named Patient)'].values)\n",
    "    drug_year_quantity_dict[year] = drug_num_dict"
   ]
  },
  {
   "cell_type": "code",
   "execution_count": 87,
   "id": "96060078",
   "metadata": {},
   "outputs": [
    {
     "data": {
      "text/plain": [
       "{2009: {'TIMOLOL ': 148812,\n",
       "  'TIMOLOL-PRESERVATIVE': 0,\n",
       "  'AZARGA': 0,\n",
       "  'BETAXOLOL': 26493,\n",
       "  'BIMATOPROST': 16949,\n",
       "  'BRIMONIDINE': 104309,\n",
       "  'COMBIGAN': 988,\n",
       "  'COSOPT': 78550,\n",
       "  'DORZOLAMIDE': 9686,\n",
       "  'DUOTRAV': 12865,\n",
       "  'GANFORT ': 10242,\n",
       "  'GANFORT-PRESERVATIVE': 0,\n",
       "  'LATANOPROST ': 0,\n",
       "  'LATANOPROST-PRESERVATIVE': 0,\n",
       "  'PILOCARPINE HCL1%': 5626,\n",
       "  'PILOCARPINE HCL2%': 8412,\n",
       "  'PILOCARPINE HCL4%': 8775,\n",
       "  'SIMBRINZA': 0,\n",
       "  'TAFLUPROST': 0,\n",
       "  'TAPCOM-S': 0,\n",
       "  'TRAVOPROST': 18922,\n",
       "  'XALACOM': 17769,\n",
       "  'ACETAZOLAMIDE': 112657},\n",
       " 2010: {'TIMOLOL ': 182844,\n",
       "  'TIMOLOL-PRESERVATIVE': 0,\n",
       "  'AZARGA': 6436,\n",
       "  'BETAXOLOL': 22949,\n",
       "  'BIMATOPROST': 19754,\n",
       "  'BRIMONIDINE': 126859,\n",
       "  'COMBIGAN': 11451,\n",
       "  'COSOPT': 89340,\n",
       "  'DORZOLAMIDE': 9019,\n",
       "  'DUOTRAV': 15399,\n",
       "  'GANFORT ': 18299,\n",
       "  'GANFORT-PRESERVATIVE': 0,\n",
       "  'LATANOPROST ': 0,\n",
       "  'LATANOPROST-PRESERVATIVE': 0,\n",
       "  'PILOCARPINE HCL1%': 5470,\n",
       "  'PILOCARPINE HCL2%': 7719,\n",
       "  'PILOCARPINE HCL4%': 8250,\n",
       "  'SIMBRINZA': 0,\n",
       "  'TAFLUPROST': 92,\n",
       "  'TAPCOM-S': 0,\n",
       "  'TRAVOPROST': 22873,\n",
       "  'XALACOM': 22593,\n",
       "  'ACETAZOLAMIDE': 120505},\n",
       " 2011: {'TIMOLOL ': 178793,\n",
       "  'TIMOLOL-PRESERVATIVE': 0,\n",
       "  'AZARGA': 28335,\n",
       "  'BETAXOLOL': 19588,\n",
       "  'BIMATOPROST': 18820,\n",
       "  'BRIMONIDINE': 123601,\n",
       "  'COMBIGAN': 16722,\n",
       "  'COSOPT': 76778,\n",
       "  'DORZOLAMIDE': 7401,\n",
       "  'DUOTRAV': 14711,\n",
       "  'GANFORT ': 18035,\n",
       "  'GANFORT-PRESERVATIVE': 0,\n",
       "  'LATANOPROST ': 0,\n",
       "  'LATANOPROST-PRESERVATIVE': 0,\n",
       "  'PILOCARPINE HCL1%': 5520,\n",
       "  'PILOCARPINE HCL2%': 6195,\n",
       "  'PILOCARPINE HCL4%': 7245,\n",
       "  'SIMBRINZA': 0,\n",
       "  'TAFLUPROST': 351,\n",
       "  'TAPCOM-S': 0,\n",
       "  'TRAVOPROST': 20575,\n",
       "  'XALACOM': 26194,\n",
       "  'ACETAZOLAMIDE': 119980},\n",
       " 2012: {'TIMOLOL ': 186353,\n",
       "  'TIMOLOL-PRESERVATIVE': 0,\n",
       "  'AZARGA': 48504,\n",
       "  'BETAXOLOL': 18439,\n",
       "  'BIMATOPROST': 20327,\n",
       "  'BRIMONIDINE': 136377,\n",
       "  'COMBIGAN': 18618,\n",
       "  'COSOPT': 80020,\n",
       "  'DORZOLAMIDE': 8507,\n",
       "  'DUOTRAV': 15776,\n",
       "  'GANFORT ': 18844,\n",
       "  'GANFORT-PRESERVATIVE': 0,\n",
       "  'LATANOPROST ': 0,\n",
       "  'LATANOPROST-PRESERVATIVE': 0,\n",
       "  'PILOCARPINE HCL1%': 5809,\n",
       "  'PILOCARPINE HCL2%': 5793,\n",
       "  'PILOCARPINE HCL4%': 6896,\n",
       "  'SIMBRINZA': 0,\n",
       "  'TAFLUPROST': 192,\n",
       "  'TAPCOM-S': 0,\n",
       "  'TRAVOPROST': 24183,\n",
       "  'XALACOM': 28430,\n",
       "  'ACETAZOLAMIDE': 127236},\n",
       " 2013: {'TIMOLOL ': 176980,\n",
       "  'TIMOLOL-PRESERVATIVE': 0,\n",
       "  'AZARGA': 63295,\n",
       "  'BETAXOLOL': 14254,\n",
       "  'BIMATOPROST': 17772,\n",
       "  'BRIMONIDINE': 138744,\n",
       "  'COMBIGAN': 23337,\n",
       "  'COSOPT': 62994,\n",
       "  'DORZOLAMIDE': 8845,\n",
       "  'DUOTRAV': 15348,\n",
       "  'GANFORT ': 18263,\n",
       "  'GANFORT-PRESERVATIVE': 0,\n",
       "  'LATANOPROST ': 0,\n",
       "  'LATANOPROST-PRESERVATIVE': 0,\n",
       "  'PILOCARPINE HCL1%': 5136,\n",
       "  'PILOCARPINE HCL2%': 5430,\n",
       "  'PILOCARPINE HCL4%': 6122,\n",
       "  'SIMBRINZA': 0,\n",
       "  'TAFLUPROST': 0,\n",
       "  'TAPCOM-S': 0,\n",
       "  'TRAVOPROST': 26115,\n",
       "  'XALACOM': 25149,\n",
       "  'ACETAZOLAMIDE': 114154},\n",
       " 2014: {'TIMOLOL ': 165509.0,\n",
       "  'TIMOLOL-PRESERVATIVE': 0.0,\n",
       "  'AZARGA': 70891.0,\n",
       "  'BETAXOLOL': 13351.0,\n",
       "  'BIMATOPROST': 22529.0,\n",
       "  'BRIMONIDINE': 127918.0,\n",
       "  'COMBIGAN': 35603.0,\n",
       "  'COSOPT': 55595.0,\n",
       "  'DORZOLAMIDE': 9669.0,\n",
       "  'DUOTRAV': 17458.0,\n",
       "  'GANFORT ': 19380.0,\n",
       "  'GANFORT-PRESERVATIVE': 0.0,\n",
       "  'LATANOPROST ': 0.0,\n",
       "  'LATANOPROST-PRESERVATIVE': 0.0,\n",
       "  'PILOCARPINE HCL1%': 4612.0,\n",
       "  'PILOCARPINE HCL2%': 4216.0,\n",
       "  'PILOCARPINE HCL4%': 4550.0,\n",
       "  'SIMBRINZA': 0.0,\n",
       "  'TAFLUPROST': 0.0,\n",
       "  'TAPCOM-S': 0.0,\n",
       "  'TRAVOPROST': 29627.0,\n",
       "  'XALACOM': 20256.0,\n",
       "  'ACETAZOLAMIDE': 116023.0},\n",
       " 2015: {'TIMOLOL ': 169260,\n",
       "  'TIMOLOL-PRESERVATIVE': 0,\n",
       "  'AZARGA': 80007,\n",
       "  'BETAXOLOL': 12639,\n",
       "  'BIMATOPROST': 25748,\n",
       "  'BRIMONIDINE': 138470,\n",
       "  'COMBIGAN': 44287,\n",
       "  'COSOPT': 56417,\n",
       "  'DORZOLAMIDE': 11741,\n",
       "  'DUOTRAV': 18824,\n",
       "  'GANFORT ': 17970,\n",
       "  'GANFORT-PRESERVATIVE': 0,\n",
       "  'LATANOPROST ': 0,\n",
       "  'LATANOPROST-PRESERVATIVE': 0,\n",
       "  'PILOCARPINE HCL1%': 4730,\n",
       "  'PILOCARPINE HCL2%': 4059,\n",
       "  'PILOCARPINE HCL4%': 4401,\n",
       "  'SIMBRINZA': 0,\n",
       "  'TAFLUPROST': 0,\n",
       "  'TAPCOM-S': 0,\n",
       "  'TRAVOPROST': 32086,\n",
       "  'XALACOM': 22276,\n",
       "  'ACETAZOLAMIDE': 112922},\n",
       " 2016: {'TIMOLOL ': 206171,\n",
       "  'TIMOLOL-PRESERVATIVE': 0,\n",
       "  'AZARGA': 99546,\n",
       "  'BETAXOLOL': 13784,\n",
       "  'BIMATOPROST': 26232,\n",
       "  'BRIMONIDINE': 186672,\n",
       "  'COMBIGAN': 51549,\n",
       "  'COSOPT': 71560,\n",
       "  'DORZOLAMIDE': 15232,\n",
       "  'DUOTRAV': 22399,\n",
       "  'GANFORT ': 16673,\n",
       "  'GANFORT-PRESERVATIVE': 0,\n",
       "  'LATANOPROST ': 0,\n",
       "  'LATANOPROST-PRESERVATIVE': 0,\n",
       "  'PILOCARPINE HCL1%': 6227,\n",
       "  'PILOCARPINE HCL2%': 5051,\n",
       "  'PILOCARPINE HCL4%': 5442,\n",
       "  'SIMBRINZA': 0,\n",
       "  'TAFLUPROST': 0,\n",
       "  'TAPCOM-S': 0,\n",
       "  'TRAVOPROST': 33735,\n",
       "  'XALACOM': 37166,\n",
       "  'ACETAZOLAMIDE': 124908},\n",
       " 2017: {'TIMOLOL ': 247466,\n",
       "  'TIMOLOL-PRESERVATIVE': 6355,\n",
       "  'AZARGA': 117431,\n",
       "  'BETAXOLOL': 14122,\n",
       "  'BIMATOPROST': 27475,\n",
       "  'BRIMONIDINE': 229548,\n",
       "  'COMBIGAN': 69082,\n",
       "  'COSOPT': 89437,\n",
       "  'DORZOLAMIDE': 18858,\n",
       "  'DUOTRAV': 24971,\n",
       "  'GANFORT ': 18467,\n",
       "  'GANFORT-PRESERVATIVE': 0,\n",
       "  'LATANOPROST ': 0,\n",
       "  'LATANOPROST-PRESERVATIVE': 0,\n",
       "  'PILOCARPINE HCL1%': 7523,\n",
       "  'PILOCARPINE HCL2%': 6112,\n",
       "  'PILOCARPINE HCL4%': 6603,\n",
       "  'SIMBRINZA': 309,\n",
       "  'TAFLUPROST': 0,\n",
       "  'TAPCOM-S': 0,\n",
       "  'TRAVOPROST': 36182,\n",
       "  'XALACOM': 51636,\n",
       "  'ACETAZOLAMIDE': 153246},\n",
       " 2018: {'TIMOLOL ': 239484,\n",
       "  'TIMOLOL-PRESERVATIVE': 311475,\n",
       "  'AZARGA': 108017,\n",
       "  'BETAXOLOL': 11438,\n",
       "  'BIMATOPROST': 24198,\n",
       "  'BRIMONIDINE': 226834,\n",
       "  'COMBIGAN': 76526,\n",
       "  'COSOPT': 96999,\n",
       "  'DORZOLAMIDE': 19098,\n",
       "  'DUOTRAV': 18792,\n",
       "  'GANFORT ': 10236,\n",
       "  'GANFORT-PRESERVATIVE': 0,\n",
       "  'LATANOPROST ': 0,\n",
       "  'LATANOPROST-PRESERVATIVE': 0,\n",
       "  'PILOCARPINE HCL1%': 8079,\n",
       "  'PILOCARPINE HCL2%': 6216,\n",
       "  'PILOCARPINE HCL4%': 5350,\n",
       "  'SIMBRINZA': 8597,\n",
       "  'TAFLUPROST': 0,\n",
       "  'TAPCOM-S': 0,\n",
       "  'TRAVOPROST': 28312,\n",
       "  'XALACOM': 72955,\n",
       "  'ACETAZOLAMIDE': 180545},\n",
       " 2019: {'TIMOLOL ': 225227,\n",
       "  'TIMOLOL-PRESERVATIVE': 437890,\n",
       "  'AZARGA': 102654,\n",
       "  'BETAXOLOL': 9780,\n",
       "  'BIMATOPROST': 18808,\n",
       "  'BRIMONIDINE': 198622,\n",
       "  'COMBIGAN': 67289,\n",
       "  'COSOPT': 92534,\n",
       "  'DORZOLAMIDE': 15834,\n",
       "  'DUOTRAV': 14266,\n",
       "  'GANFORT ': 6377,\n",
       "  'GANFORT-PRESERVATIVE': 0,\n",
       "  'LATANOPROST ': 0,\n",
       "  'LATANOPROST-PRESERVATIVE': 30,\n",
       "  'PILOCARPINE HCL1%': 9068,\n",
       "  'PILOCARPINE HCL2%': 6294,\n",
       "  'PILOCARPINE HCL4%': 5629,\n",
       "  'SIMBRINZA': 38950,\n",
       "  'TAFLUPROST': 8170,\n",
       "  'TAPCOM-S': 650,\n",
       "  'TRAVOPROST': 21091,\n",
       "  'XALACOM': 102617,\n",
       "  'ACETAZOLAMIDE': 239413}}"
      ]
     },
     "execution_count": 87,
     "metadata": {},
     "output_type": "execute_result"
    }
   ],
   "source": [
    "drug_year_quantity_dict"
   ]
  },
  {
   "cell_type": "code",
   "execution_count": 121,
   "id": "b04990d2",
   "metadata": {},
   "outputs": [
    {
     "data": {
      "image/png": "[encoded data removed]",
      "text/plain": [
       "<Figure size 864x720 with 1 Axes>"
      ]
     },
     "metadata": {
      "needs_background": "light"
     },
     "output_type": "display_data"
    },
    {
     "name": "stdout",
     "output_type": "stream",
     "text": [
      "{2009: 581055, 2010: 689852, 2011: 688844, 2012: 750304, 2013: 721938, 2014: 717187.0, 2015: 755837, 2016: 922347, 2017: 1124823, 2018: 1453151, 2019: 1621193}\n"
     ]
    },
    {
     "data": {
      "image/png": "[encoded data removed]",
      "text/plain": [
       "<Figure size 864x720 with 1 Axes>"
      ]
     },
     "metadata": {
      "needs_background": "light"
     },
     "output_type": "display_data"
    },
    {
     "name": "stdout",
     "output_type": "stream",
     "text": [
      "{2009: 16001931.0, 2010: 19991648.0, 2011: 20643408.0, 2012: 23302628.0, 2013: 23618518.0, 2014: 24460963.0, 2015: 26506411.0, 2016: 32323546.0, 2017: 38958506.0, 2018: 47724625.0, 2019: 50869904.0}\n"
     ]
    },
    {
     "data": {
      "image/png": "[encoded data removed]",
      "text/plain": [
       "<Figure size 1152x720 with 1 Axes>"
      ]
     },
     "metadata": {
      "needs_background": "light"
     },
     "output_type": "display_data"
    },
    {
     "name": "stdout",
     "output_type": "stream",
     "text": [
      "16001931.0\n",
      "19991648.0\n",
      "20643408.0\n",
      "23302628.0\n",
      "23618518.0\n",
      "24460963.0\n",
      "26506411.0\n",
      "32323546.0\n",
      "38958506.0\n",
      "47724625.0\n",
      "50869904.0\n"
     ]
    }
   ],
   "source": [
    "import matplotlib.pyplot as plt\n",
    "\n",
    "\n",
    "all_drug_over_count = {}\n",
    "for year in range(2009, 2020):\n",
    "    for drug in drug_prices.keys():\n",
    "        if drug not in all_drug_over_count.keys():\n",
    "            all_drug_over_count[drug] = drug_year_quantity_dict[year][drug]\n",
    "        else:\n",
    "            all_drug_over_count[drug] += drug_year_quantity_dict[year][drug]\n",
    "\n",
    "            \n",
    "all_drug_over_count = dict(sorted(all_drug_over_count.items(), key=lambda item: item[1])[::-1][:10])\n",
    "\n",
    "fig = plt.figure(figsize=(12,10))\n",
    "x_axis = all_drug_over_count.keys()\n",
    "nums = range(10)\n",
    "no_by_operation = all_drug_over_count.values()\n",
    "# creating the bar plot\n",
    "plt.bar(x_axis, no_by_operation, color ='maroon', width = 0.4)\n",
    " \n",
    "for a,b in zip(nums, no_by_operation): \n",
    "    plt.text(a-0.4, b+0.3, str(b))\n",
    "\n",
    "plt.xticks(rotation=90)\n",
    "plt.xlabel(\"Drugs\")\n",
    "plt.ylabel(\"Quantities\")\n",
    "plt.title(\"Quantities of used drugs (all years, all clusters, top 10)\", fontsize=16)\n",
    "plt.show()\n",
    "\n",
    "\n",
    "\n",
    "\n",
    "\n",
    "\n",
    "\n",
    "\n",
    "# second bar chart\n",
    "\n",
    "\n",
    "import matplotlib.pyplot as plt\n",
    "\n",
    "\n",
    "all_drug_year_count = {}\n",
    "for year in range(2009, 2020):\n",
    "    all_drug_year_count[year] = np.sum(list(drug_year_quantity_dict[year].values()))\n",
    "print(all_drug_year_count)\n",
    "\n",
    "# all_drug_year_count = dict(sorted(all_drug_year_count.items(), key=lambda item: item[1])[::-1])\n",
    "\n",
    "fig = plt.figure(figsize=(12,10))\n",
    "x_axis = all_drug_year_count.keys()\n",
    "no_by_operation = all_drug_year_count.values()\n",
    "# creating the bar plot\n",
    "plt.bar(x_axis, no_by_operation, color ='maroon', width = 0.4)\n",
    " \n",
    "for a,b in zip(x_axis, no_by_operation): \n",
    "    plt.text(a-0.4, b+0.3, str(b))\n",
    "\n",
    "plt.xticks(rotation=90)\n",
    "plt.xlabel(\"Years\")\n",
    "plt.ylabel(\"Quantities\")\n",
    "plt.title(\"Quantities of used drugs by year (all clusters)\", fontsize=16)\n",
    "plt.show()\n",
    "\n",
    "\n",
    "\n",
    "# Third Drug Cost\n",
    "\n",
    "import matplotlib.pyplot as plt\n",
    "\n",
    "\n",
    "all_drug_year_count = {}\n",
    "for year in range(2009, 2020):\n",
    "    total_cost = 0\n",
    "    for drug in drug_year_quantity_dict[year]:\n",
    "        total_cost += drug_prices[drug] * drug_year_quantity_dict[year][drug]\n",
    "    all_drug_year_count[year] = np.round(total_cost,0)\n",
    "print(all_drug_year_count)\n",
    "\n",
    "# all_drug_year_count = dict(sorted(all_drug_year_count.items(), key=lambda item: item[1])[::-1])\n",
    "\n",
    "fig = plt.figure(figsize=(16,10))\n",
    "x_axis = all_drug_year_count.keys()\n",
    "no_by_operation = all_drug_year_count.values()\n",
    "# creating the bar plot\n",
    "plt.bar(x_axis, no_by_operation, color ='maroon', width = 0.4)\n",
    " \n",
    "for a,b in zip(x_axis, no_by_operation): \n",
    "    plt.text(a-0.4, b+0.3, str(b))\n",
    "\n",
    "plt.xticks(rotation=90)\n",
    "plt.xlabel(\"Years\")\n",
    "plt.ylabel(\"HKD\")\n",
    "plt.title(\"Total Costs of used drugs by year (all clusters)\", fontsize=16)\n",
    "plt.show()\n",
    "\n",
    "for x in no_by_operation:\n",
    "    print(x)"
   ]
  },
  {
   "cell_type": "code",
   "execution_count": 91,
   "id": "99b052d3",
   "metadata": {},
   "outputs": [
    {
     "data": {
      "text/plain": [
       "{'TIMOLOL ': 2126899.0,\n",
       " 'TIMOLOL-PRESERVATIVE': 755720.0,\n",
       " 'AZARGA': 725116.0,\n",
       " 'BETAXOLOL': 176837.0,\n",
       " 'BIMATOPROST': 238612.0,\n",
       " 'BRIMONIDINE': 1737954.0,\n",
       " 'COMBIGAN': 415452.0,\n",
       " 'COSOPT': 850224.0,\n",
       " 'DORZOLAMIDE': 133890.0,\n",
       " 'DUOTRAV': 190809.0,\n",
       " 'GANFORT ': 172786.0,\n",
       " 'GANFORT-PRESERVATIVE': 0.0,\n",
       " 'LATANOPROST ': 0.0,\n",
       " 'LATANOPROST-PRESERVATIVE': 30.0,\n",
       " 'PILOCARPINE HCL1%': 67800.0,\n",
       " 'PILOCARPINE HCL2%': 65497.0,\n",
       " 'PILOCARPINE HCL4%': 69263.0,\n",
       " 'SIMBRINZA': 47856.0,\n",
       " 'TAFLUPROST': 8805.0,\n",
       " 'TAPCOM-S': 650.0,\n",
       " 'TRAVOPROST': 293701.0,\n",
       " 'XALACOM': 427041.0,\n",
       " 'ACETAZOLAMIDE': 1521589.0}"
      ]
     },
     "execution_count": 91,
     "metadata": {},
     "output_type": "execute_result"
    }
   ],
   "source": [
    "all_drug_over_count"
   ]
  },
  {
   "cell_type": "code",
   "execution_count": null,
   "id": "529f0b74",
   "metadata": {},
   "outputs": [],
   "source": []
  }
 ],
 "metadata": {
  "kernelspec": {
   "display_name": "Python 3 (ipykernel)",
   "language": "python",
   "name": "python3"
  },
  "language_info": {
   "codemirror_mode": {
    "name": "ipython",
    "version": 3
   },
   "file_extension": ".py",
   "mimetype": "text/x-python",
   "name": "python",
   "nbconvert_exporter": "python",
   "pygments_lexer": "ipython3",
   "version": "3.9.7"
  }
 },
 "nbformat": 4,
 "nbformat_minor": 5
}
